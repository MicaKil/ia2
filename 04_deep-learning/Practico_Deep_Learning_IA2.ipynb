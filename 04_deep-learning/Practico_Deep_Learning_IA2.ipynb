{
  "nbformat": 4,
  "nbformat_minor": 0,
  "metadata": {
    "colab": {
      "provenance": [],
      "gpuType": "T4"
    },
    "kernelspec": {
      "name": "python3",
      "display_name": "Python 3"
    },
    "language_info": {
      "name": "python"
    },
    "accelerator": "GPU"
  },
  "cells": [
    {
      "cell_type": "code",
      "source": [
        "import numpy\n",
        "import tensorflow as tf\n",
        "from tensorflow import keras\n",
        "from tensorflow.keras import layers\n",
        "import matplotlib.pyplot as plt"
      ],
      "metadata": {
        "id": "DoaLnJQp961C"
      },
      "execution_count": null,
      "outputs": []
    },
    {
      "cell_type": "markdown",
      "source": [
        "# Parte 1: Introducción"
      ],
      "metadata": {
        "id": "GBz5BAKoVwAv"
      }
    },
    {
      "cell_type": "markdown",
      "metadata": {
        "id": "ZIyMzJmXpDdH"
      },
      "source": [
        "### Ejercicio 1\n",
        "Generar un tensor llamado **x** cuyo contenido sea el siguiente:\n",
        "\n",
        "![Imgur](https://i.imgur.com/rfaKGUG.png)"
      ]
    },
    {
      "cell_type": "code",
      "execution_count": null,
      "metadata": {
        "id": "A5cbS3G9nQyg"
      },
      "outputs": [],
      "source": [
        "# Code here"
      ]
    },
    {
      "cell_type": "markdown",
      "metadata": {
        "id": "dm_PLDM_ov2z"
      },
      "source": [
        "### Ejercicio 2\n",
        "Realizar los cambios necesarios en los siguientes tensores para que sea posible multiplicar cada columna del tensor \"X\" por el vector \"y\"."
      ]
    },
    {
      "cell_type": "code",
      "execution_count": null,
      "metadata": {
        "id": "iYigasJnqJDe"
      },
      "outputs": [],
      "source": [
        "X = tf.ones((2, 4, 5, 3))\n",
        "y = tf.constant([1, 2, 3, 4, 5])\n",
        "# Code here"
      ]
    },
    {
      "cell_type": "markdown",
      "source": [
        "### Ejercicio 3\n",
        "Sobre Tensores, implemente las operaciones Suma, Producto Tensorial y Contraccion Tensorial. Para ello agregue las operaciones tensoriales que sean pertinentes"
      ],
      "metadata": {
        "id": "wyL_f2TRGzSN"
      }
    },
    {
      "cell_type": "code",
      "source": [
        "# Code here\n"
      ],
      "metadata": {
        "id": "urXdykPP3x-h"
      },
      "execution_count": null,
      "outputs": []
    },
    {
      "cell_type": "markdown",
      "source": [
        "### Ejercicio 4\n",
        "Descargar y estudiar el dataset de IMDB de Keras (num_words = 10000)\n",
        "Separar el dataset en conjuntos de train y test"
      ],
      "metadata": {
        "id": "dSkCut4H32lE"
      }
    },
    {
      "cell_type": "code",
      "source": [
        "# Code here"
      ],
      "metadata": {
        "id": "DIczLIn8Hoth"
      },
      "execution_count": null,
      "outputs": []
    },
    {
      "cell_type": "markdown",
      "source": [
        "# Ejercicio 5\n",
        "Dentro del conjunto de Test extraer el primer review positivo y el primer negativo. Hacer la codificacion back-to-text de cada uno de ellos"
      ],
      "metadata": {
        "id": "kX6albpW4mmk"
      }
    },
    {
      "cell_type": "code",
      "source": [
        "# Code here"
      ],
      "metadata": {
        "id": "Twq7OJui5Pia"
      },
      "execution_count": null,
      "outputs": []
    },
    {
      "cell_type": "markdown",
      "source": [
        "### Ejercicio 6\n",
        "Sin hacer uso de las librerias de Keras, crear una red neuronal feed-forward fully_connected con la siguiente arquitectura: capa de entrada - 16 -16 - capa de salida.\n",
        "(Programar todas las funciones necesarias)\n"
      ],
      "metadata": {
        "id": "YKcgzaui5SsZ"
      }
    },
    {
      "cell_type": "code",
      "source": [
        "# Code here"
      ],
      "metadata": {
        "id": "e8K_z43P7Ckt"
      },
      "execution_count": null,
      "outputs": []
    },
    {
      "cell_type": "markdown",
      "source": [
        "### Ejercicio 7\n",
        "Tomar un lote random de 100 reviews en el conjunto de train y hacer forward por su red neuronal estimando el error para ese lote. Definir la funcion de error pertinente."
      ],
      "metadata": {
        "id": "RP4QnotU7EFK"
      }
    },
    {
      "cell_type": "code",
      "source": [
        "# Code here"
      ],
      "metadata": {
        "id": "xMgbNdbk7uuj"
      },
      "execution_count": null,
      "outputs": []
    },
    {
      "cell_type": "markdown",
      "source": [
        "### Ejercicio 8\n",
        "Usando Keras defina la misma red neuronal anterior"
      ],
      "metadata": {
        "id": "0pgNzr_z73cl"
      }
    },
    {
      "cell_type": "code",
      "source": [
        "# Code here"
      ],
      "metadata": {
        "id": "i4640XN678D0"
      },
      "execution_count": null,
      "outputs": []
    },
    {
      "cell_type": "markdown",
      "source": [
        "### Ejercicio 9\n",
        "Entrene el modelo definido usando un batchs de 512 elementos y 20 epoch. Recuerden generar los conjuntos de validacion y train."
      ],
      "metadata": {
        "id": "ww1WleSn8AJQ"
      }
    },
    {
      "cell_type": "code",
      "source": [
        "# Code here"
      ],
      "metadata": {
        "id": "Gj1DUK377-Qg"
      },
      "execution_count": null,
      "outputs": []
    },
    {
      "cell_type": "markdown",
      "source": [
        "### Ejercicio 10\n",
        "Plotear las curvas de **Training vs Validation Loss** con la loss por cada epochs\n",
        "Plotear las curvas de **Training vs Validation Accuracy** con el accuracy por cada epochs\n",
        "\n",
        "Haga un resumen con las conclusiones observadas en ambas graficas"
      ],
      "metadata": {
        "id": "wxZEiARD9dao"
      }
    },
    {
      "cell_type": "code",
      "source": [
        "# Code here"
      ],
      "metadata": {
        "id": "9miq1vlI-K0o"
      },
      "execution_count": null,
      "outputs": []
    }
  ]
}