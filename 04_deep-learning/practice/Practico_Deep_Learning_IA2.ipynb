{
 "cells": [
  {
   "cell_type": "code",
   "execution_count": 1,
   "metadata": {
    "ExecuteTime": {
     "end_time": "2024-08-29T21:25:48.510414Z",
     "start_time": "2024-08-29T21:25:42.555826Z"
    },
    "id": "DoaLnJQp961C"
   },
   "outputs": [
    {
     "name": "stderr",
     "output_type": "stream",
     "text": [
      "2024-08-29 18:25:43.129108: I external/local_xla/xla/tsl/cuda/cudart_stub.cc:32] Could not find cuda drivers on your machine, GPU will not be used.\n",
      "2024-08-29 18:25:43.135631: I external/local_xla/xla/tsl/cuda/cudart_stub.cc:32] Could not find cuda drivers on your machine, GPU will not be used.\n",
      "2024-08-29 18:25:43.156055: E external/local_xla/xla/stream_executor/cuda/cuda_fft.cc:485] Unable to register cuFFT factory: Attempting to register factory for plugin cuFFT when one has already been registered\n",
      "2024-08-29 18:25:43.199401: E external/local_xla/xla/stream_executor/cuda/cuda_dnn.cc:8454] Unable to register cuDNN factory: Attempting to register factory for plugin cuDNN when one has already been registered\n",
      "2024-08-29 18:25:43.211950: E external/local_xla/xla/stream_executor/cuda/cuda_blas.cc:1452] Unable to register cuBLAS factory: Attempting to register factory for plugin cuBLAS when one has already been registered\n",
      "2024-08-29 18:25:43.238934: I tensorflow/core/platform/cpu_feature_guard.cc:210] This TensorFlow binary is optimized to use available CPU instructions in performance-critical operations.\n",
      "To enable the following instructions: AVX2 FMA, in other operations, rebuild TensorFlow with the appropriate compiler flags.\n",
      "2024-08-29 18:25:45.161796: W tensorflow/compiler/tf2tensorrt/utils/py_utils.cc:38] TF-TRT Warning: Could not find TensorRT\n"
     ]
    }
   ],
   "source": [
    "import numpy\n",
    "import tensorflow as tf\n",
    "from prompt_toolkit.input import Input\n",
    "from tensorflow import keras\n",
    "from tensorflow.keras import layers\n",
    "import matplotlib.pyplot as plt"
   ]
  },
  {
   "cell_type": "markdown",
   "metadata": {
    "id": "GBz5BAKoVwAv"
   },
   "source": [
    "# Parte 1: Introducción"
   ]
  },
  {
   "cell_type": "markdown",
   "metadata": {
    "id": "ZIyMzJmXpDdH"
   },
   "source": [
    "### Ejercicio 1\n",
    "Generar un tensor llamado **x** cuyo contenido sea el siguiente:\n",
    "```\n",
    "tensor([[[0, 2, 4, 6, 8],\n",
    "\t\t [10, 12, 14, 16, 18],\n",
    "\t\t [20, 22, 24, 26, 28]],\n",
    "\t\t[[30, 32, 34, 36, 38],\n",
    "\t\t [40, 42, 44, 46, 48],\n",
    "\t\t [50, 52, 54, 56, 58]]])\n",
    "```\n",
    "\n",
    "![Imgur](https://i.imgur.com/rfaKGUG.png)"
   ]
  },
  {
   "cell_type": "code",
   "metadata": {
    "id": "A5cbS3G9nQyg",
    "ExecuteTime": {
     "end_time": "2024-08-29T21:57:09.278711Z",
     "start_time": "2024-08-29T21:57:09.240858Z"
    }
   },
   "source": [
    "x = tf.constant([[[0, 2, 4, 6, 8],\n",
    "\t\t\t\t  [10, 12, 14, 16, 18],\n",
    "\t\t\t\t  [20, 22, 24, 26, 28]],\n",
    "\t\t\t\t [[30, 32, 34, 36, 38],\n",
    "\t\t\t\t  [40, 42, 44, 46, 48],\n",
    "\t\t\t\t  [50, 52, 54, 56, 58]]])\n",
    "print(x)"
   ],
   "outputs": [
    {
     "name": "stdout",
     "output_type": "stream",
     "text": [
      "tf.Tensor(\n",
      "[[[ 0  2  4  6  8]\n",
      "  [10 12 14 16 18]\n",
      "  [20 22 24 26 28]]\n",
      "\n",
      " [[30 32 34 36 38]\n",
      "  [40 42 44 46 48]\n",
      "  [50 52 54 56 58]]], shape=(2, 3, 5), dtype=int32)\n"
     ]
    }
   ],
   "execution_count": 3
  },
  {
   "metadata": {
    "ExecuteTime": {
     "end_time": "2024-08-29T21:57:30.243023Z",
     "start_time": "2024-08-29T21:57:30.225684Z"
    }
   },
   "cell_type": "code",
   "source": "x[0][0][0]",
   "outputs": [
    {
     "data": {
      "text/plain": [
       "<tf.Tensor: shape=(), dtype=int32, numpy=0>"
      ]
     },
     "execution_count": 6,
     "metadata": {},
     "output_type": "execute_result"
    }
   ],
   "execution_count": 6
  },
  {
   "cell_type": "markdown",
   "metadata": {
    "id": "dm_PLDM_ov2z"
   },
   "source": [
    "### Ejercicio 2\n",
    "Realizar los cambios necesarios en los siguientes tensores para que sea posible multiplicar cada columna del tensor \"X\" por el vector \"y\"."
   ]
  },
  {
   "cell_type": "code",
   "execution_count": 8,
   "metadata": {
    "ExecuteTime": {
     "end_time": "2024-08-29T15:19:41.205362Z",
     "start_time": "2024-08-29T15:19:41.192344Z"
    },
    "id": "iYigasJnqJDe"
   },
   "outputs": [
    {
     "name": "stdout",
     "output_type": "stream",
     "text": [
      "X:\n",
      " tf.Tensor(\n",
      "[[[[1 1 1]\n",
      "   [1 1 1]\n",
      "   [1 1 1]\n",
      "   [1 1 1]\n",
      "   [1 1 1]]\n",
      "\n",
      "  [[1 1 1]\n",
      "   [1 1 1]\n",
      "   [1 1 1]\n",
      "   [1 1 1]\n",
      "   [1 1 1]]\n",
      "\n",
      "  [[1 1 1]\n",
      "   [1 1 1]\n",
      "   [1 1 1]\n",
      "   [1 1 1]\n",
      "   [1 1 1]]\n",
      "\n",
      "  [[1 1 1]\n",
      "   [1 1 1]\n",
      "   [1 1 1]\n",
      "   [1 1 1]\n",
      "   [1 1 1]]]\n",
      "\n",
      "\n",
      " [[[1 1 1]\n",
      "   [1 1 1]\n",
      "   [1 1 1]\n",
      "   [1 1 1]\n",
      "   [1 1 1]]\n",
      "\n",
      "  [[1 1 1]\n",
      "   [1 1 1]\n",
      "   [1 1 1]\n",
      "   [1 1 1]\n",
      "   [1 1 1]]\n",
      "\n",
      "  [[1 1 1]\n",
      "   [1 1 1]\n",
      "   [1 1 1]\n",
      "   [1 1 1]\n",
      "   [1 1 1]]\n",
      "\n",
      "  [[1 1 1]\n",
      "   [1 1 1]\n",
      "   [1 1 1]\n",
      "   [1 1 1]\n",
      "   [1 1 1]]]], shape=(2, 4, 5, 3), dtype=int32)\n",
      "\n",
      "y:\n",
      " tf.Tensor([1 2 3 4 5], shape=(5,), dtype=int32)\n",
      "\n",
      "y_reshaped:\n",
      " tf.Tensor(\n",
      "[[[[1]\n",
      "   [2]\n",
      "   [3]\n",
      "   [4]\n",
      "   [5]]]], shape=(1, 1, 5, 1), dtype=int32)\n",
      "\n",
      "Result:\n",
      " tf.Tensor(\n",
      "[[[[1 1 1]\n",
      "   [2 2 2]\n",
      "   [3 3 3]\n",
      "   [4 4 4]\n",
      "   [5 5 5]]\n",
      "\n",
      "  [[1 1 1]\n",
      "   [2 2 2]\n",
      "   [3 3 3]\n",
      "   [4 4 4]\n",
      "   [5 5 5]]\n",
      "\n",
      "  [[1 1 1]\n",
      "   [2 2 2]\n",
      "   [3 3 3]\n",
      "   [4 4 4]\n",
      "   [5 5 5]]\n",
      "\n",
      "  [[1 1 1]\n",
      "   [2 2 2]\n",
      "   [3 3 3]\n",
      "   [4 4 4]\n",
      "   [5 5 5]]]\n",
      "\n",
      "\n",
      " [[[1 1 1]\n",
      "   [2 2 2]\n",
      "   [3 3 3]\n",
      "   [4 4 4]\n",
      "   [5 5 5]]\n",
      "\n",
      "  [[1 1 1]\n",
      "   [2 2 2]\n",
      "   [3 3 3]\n",
      "   [4 4 4]\n",
      "   [5 5 5]]\n",
      "\n",
      "  [[1 1 1]\n",
      "   [2 2 2]\n",
      "   [3 3 3]\n",
      "   [4 4 4]\n",
      "   [5 5 5]]\n",
      "\n",
      "  [[1 1 1]\n",
      "   [2 2 2]\n",
      "   [3 3 3]\n",
      "   [4 4 4]\n",
      "   [5 5 5]]]], shape=(2, 4, 5, 3), dtype=int32)\n"
     ]
    }
   ],
   "source": [
    "X = tf.ones((2, 4, 5, 3), dtype=tf.int32)\n",
    "print(\"X:\\n\", X)\n",
    "y = tf.constant([1, 2, 3, 4, 5])\n",
    "print(\"\\ny:\\n\", y)\n",
    "\n",
    "y_reshaped = tf.reshape(y, (1, 1, 5, 1))\n",
    "print(\"\\ny_reshaped:\\n\", y_reshaped)\n",
    "\n",
    "result = tf.multiply(X, y_reshaped)\n",
    "print(\"\\nResult:\\n\", result)"
   ]
  },
  {
   "cell_type": "markdown",
   "metadata": {
    "id": "wyL_f2TRGzSN"
   },
   "source": [
    "### Ejercicio 3\n",
    "Sobre Tensores, implemente las operaciones Suma, Producto Tensorial y Contraccion Tensorial. Para ello agregue las operaciones tensoriales que sean pertinentes"
   ]
  },
  {
   "cell_type": "code",
   "execution_count": 9,
   "metadata": {
    "ExecuteTime": {
     "end_time": "2024-08-29T15:19:58.863385Z",
     "start_time": "2024-08-29T15:19:58.832025Z"
    },
    "id": "urXdykPP3x-h"
   },
   "outputs": [
    {
     "name": "stdout",
     "output_type": "stream",
     "text": [
      "Suma:\n",
      " tf.Tensor(\n",
      "[[ 6  8]\n",
      " [10 12]], shape=(2, 2), dtype=int32)\n",
      "Producto Tensorial:\n",
      " tf.Tensor(\n",
      "[[[[ 5  6]\n",
      "   [ 7  8]]\n",
      "\n",
      "  [[10 12]\n",
      "   [14 16]]]\n",
      "\n",
      "\n",
      " [[[15 18]\n",
      "   [21 24]]\n",
      "\n",
      "  [[20 24]\n",
      "   [28 32]]]], shape=(2, 2, 2, 2), dtype=int32)\n",
      "Contracción Tensorial:\n",
      " tf.Tensor(\n",
      "[[19 22]\n",
      " [43 50]], shape=(2, 2), dtype=int32)\n"
     ]
    }
   ],
   "source": [
    "a = tf.constant([[1, 2], [3, 4]])\n",
    "b = tf.constant([[5, 6], [7, 8]])\n",
    "\n",
    "# suma\n",
    "sum_result = tf.add(a, b)\n",
    "\n",
    "# producto tensorial (outer product)\n",
    "outer_product = tf.tensordot(a, b, axes=0)\n",
    "\n",
    "# contracción tensorial (sumar sobre índices)\n",
    "contraction = tf.tensordot(a, b, axes=1)\n",
    "\n",
    "print(\"Suma:\\n\", sum_result)\n",
    "print(\"Producto Tensorial:\\n\", outer_product)\n",
    "print(\"Contracción Tensorial:\\n\", contraction)\n"
   ]
  },
  {
   "cell_type": "markdown",
   "metadata": {
    "id": "dSkCut4H32lE"
   },
   "source": [
    "### Ejercicio 4\n",
    "Descargar y estudiar el dataset de IMDB de Keras (num_words = 10000)\n",
    "Separar el dataset en conjuntos de train y test"
   ]
  },
  {
   "cell_type": "code",
   "execution_count": 10,
   "metadata": {
    "ExecuteTime": {
     "end_time": "2024-08-29T15:21:02.763843Z",
     "start_time": "2024-08-29T15:20:56.131457Z"
    },
    "id": "DIczLIn8Hoth"
   },
   "outputs": [
    {
     "name": "stdout",
     "output_type": "stream",
     "text": [
      "Downloading data from https://storage.googleapis.com/tensorflow/tf-keras-datasets/imdb.npz\n",
      "\u001B[1m17464789/17464789\u001B[0m \u001B[32m━━━━━━━━━━━━━━━━━━━━\u001B[0m\u001B[37m\u001B[0m \u001B[1m2s\u001B[0m 0us/step\n",
      "Train data shape: (25000,)\n",
      "Test data shape: (25000,)\n"
     ]
    }
   ],
   "source": [
    "from tensorflow.keras.datasets import imdb\n",
    "\n",
    "# descargar el dataset\n",
    "(train_data, train_labels), (test_data, test_labels) = imdb.load_data(num_words=10000)\n",
    "\n",
    "print(f\"Train data shape: {train_data.shape}\")\n",
    "print(f\"Test data shape: {test_data.shape}\")"
   ]
  },
  {
   "cell_type": "markdown",
   "metadata": {
    "id": "kX6albpW4mmk"
   },
   "source": [
    "# Ejercicio 5\n",
    "Dentro del conjunto de Test extraer el primer review positivo y el primer negativo. Hacer la codificacion back-to-text de cada uno de ellos"
   ]
  },
  {
   "cell_type": "code",
   "execution_count": 11,
   "metadata": {
    "ExecuteTime": {
     "end_time": "2024-08-29T15:23:58.959025Z",
     "start_time": "2024-08-29T15:23:57.998134Z"
    },
    "id": "Twq7OJui5Pia"
   },
   "outputs": [
    {
     "name": "stdout",
     "output_type": "stream",
     "text": [
      "Downloading data from https://storage.googleapis.com/tensorflow/tf-keras-datasets/imdb_word_index.json\n",
      "\u001B[1m1641221/1641221\u001B[0m \u001B[32m━━━━━━━━━━━━━━━━━━━━\u001B[0m\u001B[37m\u001B[0m \u001B[1m0s\u001B[0m 0us/step\n",
      "Positive Review:\n",
      " ? this film requires a lot of patience because it focuses on mood and character development the plot is very simple and many of the scenes take place on the same set in frances ? the sandy dennis character apartment but the film builds to a disturbing climax br br the characters create an atmosphere ? with sexual tension and psychological ? it's very interesting that robert altman directed this considering the style and structure of his other films still the trademark altman audio style is evident here and there i think what really makes this film work is the brilliant performance by sandy dennis it's definitely one of her darker characters but she plays it so perfectly and convincingly that it's scary michael burns does a good job as the mute young man regular altman player michael murphy has a small part the ? moody set fits the content of the story very well in short this movie is a powerful study of loneliness sexual ? and desperation be patient ? up the atmosphere and pay attention to the wonderfully written script br br i praise robert altman this is one of his many films that deals with unconventional fascinating subject matter this film is disturbing but it's sincere and it's sure to ? a strong emotional response from the viewer if you want to see an unusual film some might even say bizarre this is worth the time br br unfortunately it's very difficult to find in video stores you may have to buy it off the internet\n",
      "Negative Review:\n",
      " ? please give this one a miss br br ? ? and the rest of the cast rendered terrible performances the show is flat flat flat br br i don't know how michael madison could have allowed this one on his plate he almost seemed to know this wasn't going to work out and his performance was quite ? so all you madison fans give this a miss\n"
     ]
    }
   ],
   "source": [
    "word_index = imdb.get_word_index()  # Retrieves a dict mapping words to their index in the IMDB dataset.\n",
    "reverse_word_index = {value: key for key, value in word_index.items()}\n",
    "\n",
    "# Reverse the word index to obtain a dict mapping indices to words\n",
    "# Note that the indices are offset by 3 because 0, 1, and 2 are reserved indices for \"padding\", \"start of sequence\", and \"unknown\".\n",
    "def decode_review(text):\n",
    "\treturn ' '.join([reverse_word_index.get(i - 3, '?') for i in text])\n",
    "\n",
    "# encontrar el primer review positivo y negativo\n",
    "positive_review = next(review for review, label in zip(test_data, test_labels) if label == 1)\n",
    "negative_review = next(review for review, label in zip(test_data, test_labels) if label == 0)\n",
    "\n",
    "print(\"Positive Review:\\n\", decode_review(positive_review))\n",
    "print(\"\\nNegative Review:\\n\", decode_review(negative_review))"
   ]
  },
  {
   "cell_type": "markdown",
   "metadata": {
    "id": "YKcgzaui5SsZ"
   },
   "source": [
    "### Ejercicio 6\n",
    "Sin hacer uso de las librerias de Keras, crear una red neuronal feed-forward fully_connected con la siguiente arquitectura: capa de entrada - 16 -16 - capa de salida.\n",
    "(Programar todas las funciones necesarias)\n"
   ]
  },
  {
   "cell_type": "code",
   "execution_count": 12,
   "metadata": {
    "ExecuteTime": {
     "end_time": "2024-08-29T15:32:03.814160Z",
     "start_time": "2024-08-29T15:32:03.788859Z"
    },
    "id": "e8K_z43P7Ckt"
   },
   "outputs": [
    {
     "name": "stdout",
     "output_type": "stream",
     "text": [
      "[1.]\n"
     ]
    }
   ],
   "source": [
    "import numpy as np\n",
    "\n",
    "def relu(x):\n",
    "\treturn np.maximum(0, x)\n",
    "\n",
    "def softmax(x):\n",
    "\te_x = np.exp(x - np.max(x))\n",
    "\treturn e_x / e_x.sum(axis=0)\n",
    "\n",
    "# crear la red neuronal\n",
    "input_size = 10000\n",
    "hidden_size = 16\n",
    "output_size = 1\n",
    "\n",
    "# inicializar pesos\n",
    "W1 = np.random.randn(hidden_size, input_size)\n",
    "W2 = np.random.randn(hidden_size, hidden_size)\n",
    "W3 = np.random.randn(output_size, hidden_size)\n",
    "\n",
    "def forward(x):\n",
    "\th1 = relu(np.dot(W1, x))\n",
    "\th2 = relu(np.dot(W2, h1))\n",
    "\toutput = softmax(np.dot(W3, h2))\n",
    "\treturn output\n",
    "\n",
    "x_example = np.random.randn(input_size)\n",
    "output_example = forward(x_example)\n",
    "print(output_example)"
   ]
  },
  {
   "cell_type": "markdown",
   "metadata": {
    "id": "RP4QnotU7EFK"
   },
   "source": [
    "### Ejercicio 7\n",
    "Tomar un lote random de 100 reviews en el conjunto de train y hacer forward por su red neuronal estimando el error para ese lote. Definir la funcion de error pertinente."
   ]
  },
  {
   "cell_type": "code",
   "execution_count": 15,
   "metadata": {
    "ExecuteTime": {
     "end_time": "2024-08-29T15:37:43.135098Z",
     "start_time": "2024-08-29T15:37:43.096537Z"
    },
    "id": "xMgbNdbk7uuj"
   },
   "outputs": [
    {
     "name": "stdout",
     "output_type": "stream",
     "text": [
      "[[1.]\n",
      " [1.]\n",
      " [1.]\n",
      " [1.]\n",
      " [1.]\n",
      " [1.]\n",
      " [1.]\n",
      " [1.]\n",
      " [1.]\n",
      " [1.]\n",
      " [1.]\n",
      " [1.]\n",
      " [1.]\n",
      " [1.]\n",
      " [1.]\n",
      " [1.]\n",
      " [1.]\n",
      " [1.]\n",
      " [1.]\n",
      " [1.]\n",
      " [1.]\n",
      " [1.]\n",
      " [1.]\n",
      " [1.]\n",
      " [1.]\n",
      " [1.]\n",
      " [1.]\n",
      " [1.]\n",
      " [1.]\n",
      " [1.]\n",
      " [1.]\n",
      " [1.]\n",
      " [1.]\n",
      " [1.]\n",
      " [1.]\n",
      " [1.]\n",
      " [1.]\n",
      " [1.]\n",
      " [1.]\n",
      " [1.]\n",
      " [1.]\n",
      " [1.]\n",
      " [1.]\n",
      " [1.]\n",
      " [1.]\n",
      " [1.]\n",
      " [1.]\n",
      " [1.]\n",
      " [1.]\n",
      " [1.]\n",
      " [1.]\n",
      " [1.]\n",
      " [1.]\n",
      " [1.]\n",
      " [1.]\n",
      " [1.]\n",
      " [1.]\n",
      " [1.]\n",
      " [1.]\n",
      " [1.]\n",
      " [1.]\n",
      " [1.]\n",
      " [1.]\n",
      " [1.]\n",
      " [1.]\n",
      " [1.]\n",
      " [1.]\n",
      " [1.]\n",
      " [1.]\n",
      " [1.]\n",
      " [1.]\n",
      " [1.]\n",
      " [1.]\n",
      " [1.]\n",
      " [1.]\n",
      " [1.]\n",
      " [1.]\n",
      " [1.]\n",
      " [1.]\n",
      " [1.]\n",
      " [1.]\n",
      " [1.]\n",
      " [1.]\n",
      " [1.]\n",
      " [1.]\n",
      " [1.]\n",
      " [1.]\n",
      " [1.]\n",
      " [1.]\n",
      " [1.]\n",
      " [1.]\n",
      " [1.]\n",
      " [1.]\n",
      " [1.]\n",
      " [1.]\n",
      " [1.]\n",
      " [1.]\n",
      " [1.]\n",
      " [1.]\n",
      " [1.]]\n"
     ]
    }
   ],
   "source": [
    "indices = np.random.choice(len(train_data), 100, replace=False)\n",
    "# batch = np.array([train_data[i] for i in indices])\n",
    "\n",
    "# definir la longitud máxima (500 palabras por review)\n",
    "maxlen = 500\n",
    "vocab_size = 10000\n",
    "# rellenar o truncar cada review para que tenga la misma longitud\n",
    "batch = np.zeros((100, vocab_size))\n",
    "\n",
    "for i, idx in enumerate(indices):\n",
    "\treview = train_data[idx]\n",
    "\tfor word_idx in review:\n",
    "\t\tif word_idx < vocab_size:\n",
    "\t\t\tbatch[i, word_idx] = 1\n",
    "\n",
    "outputs = np.array([forward(x) for x in batch])\n",
    "print(outputs)"
   ]
  },
  {
   "cell_type": "markdown",
   "metadata": {
    "id": "0pgNzr_z73cl"
   },
   "source": [
    "### Ejercicio 8\n",
    "Usando Keras defina la misma red neuronal anterior"
   ]
  },
  {
   "cell_type": "code",
   "execution_count": 18,
   "metadata": {
    "ExecuteTime": {
     "end_time": "2024-08-29T15:39:47.141114Z",
     "start_time": "2024-08-29T15:39:47.085245Z"
    },
    "id": "i4640XN678D0"
   },
   "outputs": [
    {
     "data": {
      "text/html": [
       "<pre style=\"white-space:pre;overflow-x:auto;line-height:normal;font-family:Menlo,'DejaVu Sans Mono',consolas,'Courier New',monospace\"><span style=\"font-weight: bold\">Model: \"sequential_1\"</span>\n",
       "</pre>\n"
      ],
      "text/plain": [
       "\u001B[1mModel: \"sequential_1\"\u001B[0m\n"
      ]
     },
     "metadata": {},
     "output_type": "display_data"
    },
    {
     "data": {
      "text/html": [
       "<pre style=\"white-space:pre;overflow-x:auto;line-height:normal;font-family:Menlo,'DejaVu Sans Mono',consolas,'Courier New',monospace\">┏━━━━━━━━━━━━━━━━━━━━━━━━━━━━━━━━━┳━━━━━━━━━━━━━━━━━━━━━━━━┳━━━━━━━━━━━━━━━┓\n",
       "┃<span style=\"font-weight: bold\"> Layer (type)                    </span>┃<span style=\"font-weight: bold\"> Output Shape           </span>┃<span style=\"font-weight: bold\">       Param # </span>┃\n",
       "┡━━━━━━━━━━━━━━━━━━━━━━━━━━━━━━━━━╇━━━━━━━━━━━━━━━━━━━━━━━━╇━━━━━━━━━━━━━━━┩\n",
       "│ dense_3 (<span style=\"color: #0087ff; text-decoration-color: #0087ff\">Dense</span>)                 │ (<span style=\"color: #00d7ff; text-decoration-color: #00d7ff\">None</span>, <span style=\"color: #00af00; text-decoration-color: #00af00\">16</span>)             │       <span style=\"color: #00af00; text-decoration-color: #00af00\">160,016</span> │\n",
       "├─────────────────────────────────┼────────────────────────┼───────────────┤\n",
       "│ dense_4 (<span style=\"color: #0087ff; text-decoration-color: #0087ff\">Dense</span>)                 │ (<span style=\"color: #00d7ff; text-decoration-color: #00d7ff\">None</span>, <span style=\"color: #00af00; text-decoration-color: #00af00\">16</span>)             │           <span style=\"color: #00af00; text-decoration-color: #00af00\">272</span> │\n",
       "├─────────────────────────────────┼────────────────────────┼───────────────┤\n",
       "│ dense_5 (<span style=\"color: #0087ff; text-decoration-color: #0087ff\">Dense</span>)                 │ (<span style=\"color: #00d7ff; text-decoration-color: #00d7ff\">None</span>, <span style=\"color: #00af00; text-decoration-color: #00af00\">1</span>)              │            <span style=\"color: #00af00; text-decoration-color: #00af00\">17</span> │\n",
       "└─────────────────────────────────┴────────────────────────┴───────────────┘\n",
       "</pre>\n"
      ],
      "text/plain": [
       "┏━━━━━━━━━━━━━━━━━━━━━━━━━━━━━━━━━┳━━━━━━━━━━━━━━━━━━━━━━━━┳━━━━━━━━━━━━━━━┓\n",
       "┃\u001B[1m \u001B[0m\u001B[1mLayer (type)                   \u001B[0m\u001B[1m \u001B[0m┃\u001B[1m \u001B[0m\u001B[1mOutput Shape          \u001B[0m\u001B[1m \u001B[0m┃\u001B[1m \u001B[0m\u001B[1m      Param #\u001B[0m\u001B[1m \u001B[0m┃\n",
       "┡━━━━━━━━━━━━━━━━━━━━━━━━━━━━━━━━━╇━━━━━━━━━━━━━━━━━━━━━━━━╇━━━━━━━━━━━━━━━┩\n",
       "│ dense_3 (\u001B[38;5;33mDense\u001B[0m)                 │ (\u001B[38;5;45mNone\u001B[0m, \u001B[38;5;34m16\u001B[0m)             │       \u001B[38;5;34m160,016\u001B[0m │\n",
       "├─────────────────────────────────┼────────────────────────┼───────────────┤\n",
       "│ dense_4 (\u001B[38;5;33mDense\u001B[0m)                 │ (\u001B[38;5;45mNone\u001B[0m, \u001B[38;5;34m16\u001B[0m)             │           \u001B[38;5;34m272\u001B[0m │\n",
       "├─────────────────────────────────┼────────────────────────┼───────────────┤\n",
       "│ dense_5 (\u001B[38;5;33mDense\u001B[0m)                 │ (\u001B[38;5;45mNone\u001B[0m, \u001B[38;5;34m1\u001B[0m)              │            \u001B[38;5;34m17\u001B[0m │\n",
       "└─────────────────────────────────┴────────────────────────┴───────────────┘\n"
      ]
     },
     "metadata": {},
     "output_type": "display_data"
    },
    {
     "data": {
      "text/html": [
       "<pre style=\"white-space:pre;overflow-x:auto;line-height:normal;font-family:Menlo,'DejaVu Sans Mono',consolas,'Courier New',monospace\"><span style=\"font-weight: bold\"> Total params: </span><span style=\"color: #00af00; text-decoration-color: #00af00\">160,305</span> (626.19 KB)\n",
       "</pre>\n"
      ],
      "text/plain": [
       "\u001B[1m Total params: \u001B[0m\u001B[38;5;34m160,305\u001B[0m (626.19 KB)\n"
      ]
     },
     "metadata": {},
     "output_type": "display_data"
    },
    {
     "data": {
      "text/html": [
       "<pre style=\"white-space:pre;overflow-x:auto;line-height:normal;font-family:Menlo,'DejaVu Sans Mono',consolas,'Courier New',monospace\"><span style=\"font-weight: bold\"> Trainable params: </span><span style=\"color: #00af00; text-decoration-color: #00af00\">160,305</span> (626.19 KB)\n",
       "</pre>\n"
      ],
      "text/plain": [
       "\u001B[1m Trainable params: \u001B[0m\u001B[38;5;34m160,305\u001B[0m (626.19 KB)\n"
      ]
     },
     "metadata": {},
     "output_type": "display_data"
    },
    {
     "data": {
      "text/html": [
       "<pre style=\"white-space:pre;overflow-x:auto;line-height:normal;font-family:Menlo,'DejaVu Sans Mono',consolas,'Courier New',monospace\"><span style=\"font-weight: bold\"> Non-trainable params: </span><span style=\"color: #00af00; text-decoration-color: #00af00\">0</span> (0.00 B)\n",
       "</pre>\n"
      ],
      "text/plain": [
       "\u001B[1m Non-trainable params: \u001B[0m\u001B[38;5;34m0\u001B[0m (0.00 B)\n"
      ]
     },
     "metadata": {},
     "output_type": "display_data"
    }
   ],
   "source": [
    "from tensorflow.keras.models import Sequential\n",
    "from tensorflow.keras.layers import Dense, Input\n",
    "\n",
    "model = Sequential([\n",
    "\tInput(shape=(10000,)),\n",
    "\tDense(16, activation='relu'),\n",
    "\tDense(16, activation='relu'),\n",
    "\tDense(1, activation='sigmoid')\n",
    "])\n",
    "\n",
    "model.summary()"
   ]
  },
  {
   "cell_type": "markdown",
   "metadata": {
    "id": "ww1WleSn8AJQ"
   },
   "source": [
    "### Ejercicio 9\n",
    "Entrene el modelo definido usando un batchs de 512 elementos y 20 epoch. Recuerden generar los conjuntos de validacion y train."
   ]
  },
  {
   "cell_type": "code",
   "execution_count": 23,
   "metadata": {
    "ExecuteTime": {
     "end_time": "2024-08-29T15:45:02.709890Z",
     "start_time": "2024-08-29T15:44:26.820212Z"
    },
    "id": "Gj1DUK377-Qg"
   },
   "outputs": [
    {
     "name": "stdout",
     "output_type": "stream",
     "text": [
      "Epoch 1/20\n",
      "\u001B[1m40/40\u001B[0m \u001B[32m━━━━━━━━━━━━━━━━━━━━\u001B[0m\u001B[37m\u001B[0m \u001B[1m3s\u001B[0m 23ms/step - accuracy: 0.7063 - loss: 0.5890 - val_accuracy: 0.8776 - val_loss: 0.3336\n",
      "Epoch 2/20\n",
      "\u001B[1m40/40\u001B[0m \u001B[32m━━━━━━━━━━━━━━━━━━━━\u001B[0m\u001B[37m\u001B[0m \u001B[1m1s\u001B[0m 15ms/step - accuracy: 0.9084 - loss: 0.2654 - val_accuracy: 0.8892 - val_loss: 0.2779\n",
      "Epoch 3/20\n",
      "\u001B[1m40/40\u001B[0m \u001B[32m━━━━━━━━━━━━━━━━━━━━\u001B[0m\u001B[37m\u001B[0m \u001B[1m1s\u001B[0m 18ms/step - accuracy: 0.9395 - loss: 0.1831 - val_accuracy: 0.8902 - val_loss: 0.2856\n",
      "Epoch 4/20\n",
      "\u001B[1m40/40\u001B[0m \u001B[32m━━━━━━━━━━━━━━━━━━━━\u001B[0m\u001B[37m\u001B[0m \u001B[1m3s\u001B[0m 67ms/step - accuracy: 0.9573 - loss: 0.1383 - val_accuracy: 0.8878 - val_loss: 0.2936\n",
      "Epoch 5/20\n",
      "\u001B[1m40/40\u001B[0m \u001B[32m━━━━━━━━━━━━━━━━━━━━\u001B[0m\u001B[37m\u001B[0m \u001B[1m1s\u001B[0m 15ms/step - accuracy: 0.9677 - loss: 0.1118 - val_accuracy: 0.8832 - val_loss: 0.3247\n",
      "Epoch 6/20\n",
      "\u001B[1m40/40\u001B[0m \u001B[32m━━━━━━━━━━━━━━━━━━━━\u001B[0m\u001B[37m\u001B[0m \u001B[1m4s\u001B[0m 93ms/step - accuracy: 0.9723 - loss: 0.0937 - val_accuracy: 0.8808 - val_loss: 0.3465\n",
      "Epoch 7/20\n",
      "\u001B[1m40/40\u001B[0m \u001B[32m━━━━━━━━━━━━━━━━━━━━\u001B[0m\u001B[37m\u001B[0m \u001B[1m1s\u001B[0m 14ms/step - accuracy: 0.9785 - loss: 0.0773 - val_accuracy: 0.8832 - val_loss: 0.3789\n",
      "Epoch 8/20\n",
      "\u001B[1m40/40\u001B[0m \u001B[32m━━━━━━━━━━━━━━━━━━━━\u001B[0m\u001B[37m\u001B[0m \u001B[1m1s\u001B[0m 15ms/step - accuracy: 0.9876 - loss: 0.0588 - val_accuracy: 0.8780 - val_loss: 0.4106\n",
      "Epoch 9/20\n",
      "\u001B[1m40/40\u001B[0m \u001B[32m━━━━━━━━━━━━━━━━━━━━\u001B[0m\u001B[37m\u001B[0m \u001B[1m1s\u001B[0m 15ms/step - accuracy: 0.9916 - loss: 0.0469 - val_accuracy: 0.8758 - val_loss: 0.4459\n",
      "Epoch 10/20\n",
      "\u001B[1m40/40\u001B[0m \u001B[32m━━━━━━━━━━━━━━━━━━━━\u001B[0m\u001B[37m\u001B[0m \u001B[1m1s\u001B[0m 15ms/step - accuracy: 0.9934 - loss: 0.0384 - val_accuracy: 0.8752 - val_loss: 0.4821\n",
      "Epoch 11/20\n",
      "\u001B[1m40/40\u001B[0m \u001B[32m━━━━━━━━━━━━━━━━━━━━\u001B[0m\u001B[37m\u001B[0m \u001B[1m1s\u001B[0m 15ms/step - accuracy: 0.9956 - loss: 0.0299 - val_accuracy: 0.8680 - val_loss: 0.5216\n",
      "Epoch 12/20\n",
      "\u001B[1m40/40\u001B[0m \u001B[32m━━━━━━━━━━━━━━━━━━━━\u001B[0m\u001B[37m\u001B[0m \u001B[1m1s\u001B[0m 15ms/step - accuracy: 0.9967 - loss: 0.0260 - val_accuracy: 0.8714 - val_loss: 0.5564\n",
      "Epoch 13/20\n",
      "\u001B[1m40/40\u001B[0m \u001B[32m━━━━━━━━━━━━━━━━━━━━\u001B[0m\u001B[37m\u001B[0m \u001B[1m1s\u001B[0m 14ms/step - accuracy: 0.9983 - loss: 0.0187 - val_accuracy: 0.8704 - val_loss: 0.5925\n",
      "Epoch 14/20\n",
      "\u001B[1m40/40\u001B[0m \u001B[32m━━━━━━━━━━━━━━━━━━━━\u001B[0m\u001B[37m\u001B[0m \u001B[1m1s\u001B[0m 15ms/step - accuracy: 0.9982 - loss: 0.0166 - val_accuracy: 0.8690 - val_loss: 0.6243\n",
      "Epoch 15/20\n",
      "\u001B[1m40/40\u001B[0m \u001B[32m━━━━━━━━━━━━━━━━━━━━\u001B[0m\u001B[37m\u001B[0m \u001B[1m1s\u001B[0m 16ms/step - accuracy: 0.9995 - loss: 0.0124 - val_accuracy: 0.8674 - val_loss: 0.6565\n",
      "Epoch 16/20\n",
      "\u001B[1m40/40\u001B[0m \u001B[32m━━━━━━━━━━━━━━━━━━━━\u001B[0m\u001B[37m\u001B[0m \u001B[1m1s\u001B[0m 15ms/step - accuracy: 0.9996 - loss: 0.0103 - val_accuracy: 0.8656 - val_loss: 0.6880\n",
      "Epoch 17/20\n",
      "\u001B[1m40/40\u001B[0m \u001B[32m━━━━━━━━━━━━━━━━━━━━\u001B[0m\u001B[37m\u001B[0m \u001B[1m1s\u001B[0m 15ms/step - accuracy: 0.9995 - loss: 0.0088 - val_accuracy: 0.8662 - val_loss: 0.7170\n",
      "Epoch 18/20\n",
      "\u001B[1m40/40\u001B[0m \u001B[32m━━━━━━━━━━━━━━━━━━━━\u001B[0m\u001B[37m\u001B[0m \u001B[1m1s\u001B[0m 15ms/step - accuracy: 0.9997 - loss: 0.0066 - val_accuracy: 0.8656 - val_loss: 0.7471\n",
      "Epoch 19/20\n",
      "\u001B[1m40/40\u001B[0m \u001B[32m━━━━━━━━━━━━━━━━━━━━\u001B[0m\u001B[37m\u001B[0m \u001B[1m1s\u001B[0m 18ms/step - accuracy: 0.9999 - loss: 0.0051 - val_accuracy: 0.8660 - val_loss: 0.7735\n",
      "Epoch 20/20\n",
      "\u001B[1m40/40\u001B[0m \u001B[32m━━━━━━━━━━━━━━━━━━━━\u001B[0m\u001B[37m\u001B[0m \u001B[1m1s\u001B[0m 15ms/step - accuracy: 1.0000 - loss: 0.0044 - val_accuracy: 0.8644 - val_loss: 0.8003\n"
     ]
    }
   ],
   "source": [
    "model.compile(optimizer='adam', loss='binary_crossentropy', metrics=['accuracy'])\n",
    "\n",
    "vocab_size = 10000\n",
    "\n",
    "# Codificar cada review en un vector de tamaño vocab_size\n",
    "def vectorize_sequences(sequences, dimension=vocab_size):\n",
    "\tresults = np.zeros((len(sequences), dimension))\n",
    "\tfor i, sequence in enumerate(sequences):\n",
    "\t\tresults[i, sequence] = 1\n",
    "\treturn results\n",
    "\n",
    "# Vectorizar el train_data\n",
    "x_train = vectorize_sequences(train_data)\n",
    "x_test = vectorize_sequences(test_data)\n",
    "\n",
    "# Convertir las etiquetas a arrays de NumPy\n",
    "y_train = np.array(train_labels).astype(\"float32\")\n",
    "y_test = np.array(test_labels).astype(\"float32\")\n",
    "\n",
    "# Entrenamiento\n",
    "history = model.fit(x_train, y_train, epochs=20, batch_size=512, validation_split=0.2)\n"
   ]
  },
  {
   "cell_type": "markdown",
   "metadata": {
    "id": "wxZEiARD9dao"
   },
   "source": [
    "### Ejercicio 10\n",
    "Plotear las curvas de **Training vs Validation Loss** con la loss por cada epochs\n",
    "Plotear las curvas de **Training vs Validation Accuracy** con el accuracy por cada epochs\n",
    "\n",
    "Haga un resumen con las conclusiones observadas en ambas graficas"
   ]
  },
  {
   "cell_type": "code",
   "execution_count": 24,
   "metadata": {
    "ExecuteTime": {
     "end_time": "2024-08-29T15:45:15.133974Z",
     "start_time": "2024-08-29T15:45:14.272548Z"
    },
    "id": "9miq1vlI-K0o"
   },
   "outputs": [
    {
     "data": {
      "image/png": "[encoded data removed]",
      "text/plain": [
       "<Figure size 640x480 with 1 Axes>"
      ]
     },
     "metadata": {},
     "output_type": "display_data"
    },
    {
     "data": {
      "image/png": "[encoded data removed]",
      "text/plain": [
       "<Figure size 640x480 with 1 Axes>"
      ]
     },
     "metadata": {},
     "output_type": "display_data"
    }
   ],
   "source": [
    "plt.plot(history.history['loss'], label='Training Loss')\n",
    "plt.plot(history.history['val_loss'], label='Validation Loss')\n",
    "plt.legend()\n",
    "plt.show()\n",
    "\n",
    "plt.plot(history.history['accuracy'], label='Training Accuracy')\n",
    "plt.plot(history.history['val_accuracy'], label='Validation Accuracy')\n",
    "plt.legend()\n",
    "plt.show()"
   ]
  }
 ],
 "metadata": {
  "accelerator": "GPU",
  "colab": {
   "gpuType": "T4",
   "provenance": []
  },
  "kernelspec": {
   "display_name": "Python 3 (ipykernel)",
   "language": "python",
   "name": "python3"
  },
  "language_info": {
   "codemirror_mode": {
    "name": "ipython",
    "version": 3
   },
   "file_extension": ".py",
   "mimetype": "text/x-python",
   "name": "python",
   "nbconvert_exporter": "python",
   "pygments_lexer": "ipython3",
   "version": "3.12.3"
  }
 },
 "nbformat": 4,
 "nbformat_minor": 4
}
