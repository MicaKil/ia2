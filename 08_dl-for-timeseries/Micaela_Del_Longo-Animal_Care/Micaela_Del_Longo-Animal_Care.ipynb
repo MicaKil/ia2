{
 "cells": [
  {
   "cell_type": "markdown",
   "id": "c24180220cb78cd7",
   "metadata": {},
   "source": [
    "# Deep Learning para Series de Tiempo\n",
    "\n",
    "Resolver un problema de predicción de series de tiempo para predecir las mascotas que recibirá un refugio de animales domésticos. Dividir entre perros y gatos.\n",
    "\n",
    "**Estudiante:** Micaela Del Longo\n",
    "**Dataset:** https://www.kaggle.com/datasets/jinbonnie/animal-data"
   ]
  },
  {
   "metadata": {
    "ExecuteTime": {
     "end_time": "2024-09-24T17:20:08.030143Z",
     "start_time": "2024-09-24T17:20:07.778707Z"
    }
   },
   "cell_type": "code",
   "source": [
    "import kaggle\n",
    "import pandas as pd\n",
    "import numpy as np\n",
    "import matplotlib.pyplot as plt\n",
    "import seaborn as sns"
   ],
   "id": "eebdba9b419a2832",
   "outputs": [
    {
     "name": "stdout",
     "output_type": "stream",
     "text": [
      "Warning: Your Kaggle API key is readable by other users on this system! To fix this, you can run 'chmod 600 /home/micakil/.kaggle/kaggle.json'\n"
     ]
    }
   ],
   "execution_count": 3
  },
  {
   "cell_type": "markdown",
   "id": "6cdfb6f16c14e941",
   "metadata": {},
   "source": [
    "# Análisis Exploratorio de Datos"
   ]
  },
  {
   "cell_type": "code",
   "id": "6bf9d02aaaf06c26",
   "metadata": {
    "ExecuteTime": {
     "end_time": "2024-09-24T17:20:11.963952Z",
     "start_time": "2024-09-24T17:20:10.428100Z"
    }
   },
   "source": [
    "# descargamos el dataset\n",
    "kaggle.api.dataset_download_files('jinbonnie/animal-data', path='micaela_data', unzip=True)"
   ],
   "outputs": [
    {
     "name": "stdout",
     "output_type": "stream",
     "text": [
      "Dataset URL: https://www.kaggle.com/datasets/jinbonnie/animal-data\n"
     ]
    }
   ],
   "execution_count": 4
  },
  {
   "metadata": {
    "ExecuteTime": {
     "end_time": "2024-09-24T17:20:12.828652Z",
     "start_time": "2024-09-24T17:20:12.723809Z"
    }
   },
   "cell_type": "code",
   "source": [
    "# cargamos el dataset\n",
    "df = pd.read_csv('micaela_data/animal-data-1.csv')"
   ],
   "id": "5b3abb0f1acbee0b",
   "outputs": [],
   "execution_count": 5
  },
  {
   "metadata": {
    "jupyter": {
     "is_executing": true
    }
   },
   "cell_type": "code",
   "source": [
    "print(\"Primeras 5 Filas del Dataset\\n\")\n",
    "df.head(5)"
   ],
   "id": "d1c3404aa82fd764",
   "outputs": [],
   "execution_count": null
  },
  {
   "metadata": {},
   "cell_type": "markdown",
   "source": "",
   "id": "6b69cda1f5d5beb4"
  },
  {
   "metadata": {
    "collapsed": true,
    "jupyter": {
     "outputs_hidden": true
    },
    "ExecuteTime": {
     "end_time": "2024-09-24T17:20:18.139263Z",
     "start_time": "2024-09-24T17:20:18.105303Z"
    }
   },
   "cell_type": "code",
   "source": [
    "print(\"Tipos de Datos\\n\", df.dtypes, \"\\n\")\n",
    "\n",
    "shape = df.shape\n",
    "print(\"Cantidad de Filas: %d\\nCantidad de Columnas: %d\\n\" % (shape[0], shape[1]))\n",
    "\n",
    "print(\"Duplicados: %d\" % df.duplicated().sum())\n"
   ],
   "id": "initial_id",
   "outputs": [
    {
     "name": "stdout",
     "output_type": "stream",
     "text": [
      "Tipos de Datos\n",
      " id                    int64\n",
      "intakedate           object\n",
      "intakereason         object\n",
      "istransfer            int64\n",
      "sheltercode          object\n",
      "identichipnumber     object\n",
      "animalname           object\n",
      "breedname            object\n",
      "basecolour           object\n",
      "speciesname          object\n",
      "animalage            object\n",
      "sexname              object\n",
      "location             object\n",
      "movementdate         object\n",
      "movementtype         object\n",
      "istrial             float64\n",
      "returndate           object\n",
      "returnedreason       object\n",
      "deceaseddate         object\n",
      "deceasedreason       object\n",
      "diedoffshelter        int64\n",
      "puttosleep            int64\n",
      "isdoa                 int64\n",
      "dtype: object \n",
      "\n",
      "Cantidad de Filas: 10290\n",
      "Cantidad de Columnas: 23\n",
      "\n",
      "Duplicados: 0\n"
     ]
    }
   ],
   "execution_count": 8
  },
  {
   "metadata": {
    "ExecuteTime": {
     "end_time": "2024-09-24T17:30:45.235844Z",
     "start_time": "2024-09-24T17:30:45.225973Z"
    }
   },
   "cell_type": "code",
   "source": [
    "# list speciesnames\n",
    "species = df['speciesname'].unique()\n",
    "print(\"Species: \", species)"
   ],
   "id": "b2ac6766efaadfa8",
   "outputs": [
    {
     "name": "stdout",
     "output_type": "stream",
     "text": [
      "Species:  ['Cat' 'Dog' 'House Rabbit' 'Rat' 'Bird' 'Opossum' 'Chicken' 'Wildlife'\n",
      " 'Ferret' 'Tortoise' 'Pig' 'Hamster' 'Guinea Pig' 'Gerbil' 'Lizard'\n",
      " 'Hedgehog' 'Chinchilla' 'Goat' 'Snake' 'Squirrel' 'Sugar Glider' 'Turtle'\n",
      " 'Tarantula' 'Mouse' 'Raccoon' 'Livestock' 'Fish']\n"
     ]
    }
   ],
   "execution_count": 16
  }
 ],
 "metadata": {
  "kernelspec": {
   "display_name": "Python 3 (ipykernel)",
   "language": "python",
   "name": "python3"
  },
  "language_info": {
   "codemirror_mode": {
    "name": "ipython",
    "version": 3
   },
   "file_extension": ".py",
   "mimetype": "text/x-python",
   "name": "python",
   "nbconvert_exporter": "python",
   "pygments_lexer": "ipython3",
   "version": "3.12.3"
  }
 },
 "nbformat": 4,
 "nbformat_minor": 5
}
